{
 "cells": [
  {
   "cell_type": "code",
   "execution_count": 2,
   "metadata": {},
   "outputs": [],
   "source": [
    "from pysam import VariantFile\n",
    "import pysam\n",
    "import pandas \n",
    "import numpy as np\n",
    "import matplotlib.pyplot as plt"
   ]
  },
  {
   "cell_type": "code",
   "execution_count": 2,
   "metadata": {},
   "outputs": [
    {
     "name": "stdout",
     "output_type": "stream",
     "text": [
      "[35, 30] ['PC1004', 'PC1003']\n",
      "[26, 40] ['PC1004', 'PC1003']\n",
      "[None, 5] ['PC1004', 'PC1003']\n",
      "[368, 301] ['PC1004', 'PC1003']\n",
      "[80, 175] ['PC1004', 'PC1003']\n",
      "[38, 32] ['PC1004', 'PC1003']\n",
      "[38, 46] ['PC1004', 'PC1003']\n",
      "[36, 28] ['PC1004', 'PC1003']\n",
      "[27, 24] ['PC1004', 'PC1003']\n",
      "[31, 25] ['PC1004', 'PC1003']\n",
      "[107, 122] ['PC1004', 'PC1003']\n",
      "[26, 26] ['PC1004', 'PC1003']\n",
      "[54, 77] ['PC1004', 'PC1003']\n",
      "[39, 58] ['PC1004', 'PC1003']\n",
      "[68, 83] ['PC1004', 'PC1003']\n",
      "[57, 41] ['PC1004', 'PC1003']\n",
      "[68, 98] ['PC1004', 'PC1003']\n"
     ]
    }
   ],
   "source": [
    "from pysam import VariantFile\n",
    "import pandas\n",
    "import numpy as np\n",
    "import matplotlib.pyplot as plt\n",
    "\n",
    "vcf = VariantFile(\"test.vcf\")\n",
    "csv = pandas.read_csv(\"Table.csv\", sep=',')\n",
    "for rec in vcf.fetch():\n",
    "    DPM = []\n",
    "    A = rec.samples.keys()\n",
    "    try:\n",
    "        for i in A:\n",
    "            \n",
    "            DPM.append(rec.samples[i][\"DP\"])\n",
    "       \n",
    "        dpm = pandas.DataFrame({\n",
    "            \"DP\":DPM\n",
    "        }, index=A)\n",
    "        \n",
    "        csv.merge(dpm)\n",
    "        B = csv.histogram(bins=100)\n",
    "        plt.bar(B[:-1], A, width=1)\n",
    "        plt.xlim(min(B), max(B))\n",
    "        plt.show()\n",
    "    except:\n",
    "        print(DPM, A)\n",
    "        "
   ]
  },
  {
   "cell_type": "code",
   "execution_count": 8,
   "metadata": {
    "scrolled": true
   },
   "outputs": [],
   "source": [
    "from pysam import VariantFile\n",
    "import pandas \n",
    "import numpy as np\n",
    "import matplotlib.pyplot as plt\n",
    "\n",
    "vcf = VariantFile(\"A.vcf\")\n",
    "csv = pandas.read_csv(\"testik.csv\", sep=',')\n",
    "file = open(\"A.vcf\")\n",
    "output_vcf = open('MergeWithHist.vcf','w')\n",
    "\n",
    "line = file.readline()\n",
    "while line[0] == '#':\n",
    "    output_vcf.write(line)\n",
    "    line = file.readline()\n",
    "file.close()\n",
    "for rec in vcf.fetch():\n",
    "    DPM = []\n",
    "    ACM = []\n",
    "    ANM = []\n",
    "    REC = rec.samples.keys()\n",
    "    \n",
    "    for i in REC:\n",
    "        AC = 0\n",
    "        AN = 0\n",
    "        try:\n",
    "            if rec.samples[i][\"DP\"] is not None:\n",
    "                DPM.append(rec.samples[i][\"DP\"])\n",
    "            else:\n",
    "                DPM.append(0)\n",
    "        except:\n",
    "            continue\n",
    "        GT = rec.samples[i][\"GT\"]\n",
    "        \n",
    "        for j in GT:\n",
    "            \n",
    "            if j == 1:\n",
    "                AC+=1\n",
    "                AN+=1\n",
    "            elif j == 0:\n",
    "                AN+=1\n",
    "        ACM.append(AC)\n",
    "        ANM.append(AN)\n",
    "    result = pandas.DataFrame({\n",
    "        \"Age\": csv.Age.tolist(),\n",
    "        \"DiseaseId\": csv.DiseaseId.tolist(),\n",
    "#         \"Relativeness\": csv.Relativeness,\n",
    "        #\"DP\": DPM,\n",
    "        #\"AN\": ANM,\n",
    "#         \"AC\": ACM\n",
    "    }, index=csv[\"Sample name\"])\n",
    "    result = np.array(result)  \n",
    "\n",
    "  \n",
    "    bins=np.asarray([4,4])\n",
    "    try:\n",
    "        A = np.histogramdd(result,bins=bins,weights=DPM)\n",
    "    except:\n",
    "#         print('Don't find DP in format)\n",
    "        A = []\n",
    "\n",
    "    try:\n",
    "        B = np.histogramdd(result,bins=bins,weights=ANM)\n",
    "        C = np.histogramdd(result,bins=bins,weights=ACM)\n",
    "    except:\n",
    "#       print('Don't find GT in format)\n",
    "        B = []\n",
    "        C = []\n",
    "        \n",
    "    a = (str(rec)+';'+str(A)+';'+str(B)+';'+str(C)).replace('\\n','\\t')\n",
    "    output_vcf.write(a)\n",
    "output_vcf.close()   \n",
    "\n"
   ]
  },
  {
   "cell_type": "code",
   "execution_count": 67,
   "metadata": {},
   "outputs": [
    {
     "name": "stdout",
     "output_type": "stream",
     "text": [
      "chr1\t69511\t.\tA\tG\t211\tMinMQ;Qual;MinDP;EndDistBias\tDP=214;VDB=0.000396074;RPB=-0.0329918;AF1=1;AC1=2;DP4=0,1,128,81;MQ=10;FQ=-282;PV4=0.39,1,0.12,0.16;AN=54;AC=54\tGT:PL:DP\t1/1:83,255,0:99\t1/1:90,255,0:99\t1/1:110,255,0:99\t./.:.:.\t./.:4,.,.:.\t1/1:91,255,0:99\t1/1:79,255,0:99\t./.:.:.\t1/1:99,255,0:99\t1/1:106,255,0:99\t./.:0,.,.:.\t1/1:89,238,0:99\t1/1:90,255,0:99\t./.:.:.\t1/1:93,255,0:99\t1/1:87,255,0:99\t1/1:96,255,0:99\t./.:.:.\t./.:.:.\t1/1:88,255,0:99\t./.:.:.\t1/1:100,255,0:99\t./.:.:.\t./.:.:.\t1/1:97,255,0:99\t1/1:100,255,0:99\t1/1:100,255,0:99\t1/1:92,255,0:99\t1/1:87,255,0:99\t1/1:100,217,0:99\t./.:.:.\t./.:.:.\t./.:.:.\t1/1:102,255,0:99\t1/1:94,220,0:99\t./.:.:.\t1/1:119,255,0:99\t1/1:108,226,0:99\t./.:.:.\t./.:12,.,.:.\t1/1:122,255,0:99\t1/1:85,255,0:99\t1/1:89,255,0:99\t./.:.:.\t;(array([[198.,  99., 495.,  99.],\t       [198.,   0.,   0., 198.],\t       [ 99.,  99., 495., 198.],\t       [ 99.,  99.,  99., 198.]]), [array([ 10.,  33.,  56.,  79., 102.]), array([ 1. ,  3.5,  6. ,  8.5, 11. ])]);(array([[ 4.,  2., 10.,  2.],\t       [ 4.,  0.,  0.,  4.],\t       [ 2.,  2., 10.,  4.],\t       [ 2.,  2.,  2.,  4.]]), [array([ 10.,  33.,  56.,  79., 102.]), array([ 1. ,  3.5,  6. ,  8.5, 11. ])]);(array([[ 4.,  2., 10.,  2.],\t       [ 4.,  0.,  0.,  4.],\t       [ 2.,  2., 10.,  4.],\t       [ 2.,  2.,  2.,  4.]]), [array([ 10.,  33.,  56.,  79., 102.]), array([ 1. ,  3.5,  6. ,  8.5, 11. ])])\n"
     ]
    }
   ],
   "source": [
    "f = open('MergeWithHist.vcf')\n",
    "line = f.readline()\n",
    "print(line)"
   ]
  },
  {
   "cell_type": "code",
   "execution_count": 123,
   "metadata": {},
   "outputs": [
    {
     "name": "stdout",
     "output_type": "stream",
     "text": [
      "b'no\\n'\n",
      "gz\n",
      "b'yes\\n'\n",
      "gz\n"
     ]
    },
    {
     "data": {
      "text/plain": [
       "0"
      ]
     },
     "execution_count": 123,
     "metadata": {},
     "output_type": "execute_result"
    }
   ],
   "source": [
    "import os\n",
    "import subprocess\n",
    "from pysam import VariantFile\n",
    "import pandas\n",
    "import numpy as np\n",
    "import matplotlib.pyplot as plt\n",
    "import json\n",
    "\n",
    "def check_gz():\n",
    "    with open(\"config.json\", 'r') as f:\n",
    "        json_file = json.loads(f.read())\n",
    "        zapusk = open(json_file[\"input_data\"])\n",
    "        A = []\n",
    "\n",
    "        for line in zapusk:\n",
    "            a = 'grabix check ' + line\n",
    "            print(subprocess.check_output(a, shell=True))\n",
    "            if subprocess.check_output(a, shell=True) == 'No':\n",
    "                print('not gz')\n",
    "            else:\n",
    "                print('gz')\n",
    "#             if not subprocess.check_output(a, shell=True):\n",
    "#                 a = 'bgzip ' + line\n",
    "#                 subprocess.check_output(a, shell=True)\n",
    "#                 gzline = line.replace('.vcf','.vcf.gz')\n",
    "#                 a = 'tabix ' + gzline + '\\n'\n",
    "#                 subprocess.check_output(a, shell=True)\n",
    "#                 gz_file_name = gzline  + '\\n'\n",
    "#                 A.append(gz_file_name)\n",
    "#             else:\n",
    "#                 A.append(line)\n",
    "        zapusk.close()\n",
    "        data_list_path =  \"data_list1\"\n",
    "        with open(data_list_path, 'w') as f:\n",
    "            for line in A:\n",
    "                f.writelines([os.path.abspath(line.replace(\"\\n\", \"\")) + \"\\n\"])\n",
    "        return 0\n",
    "check_gz()"
   ]
  },
  {
   "cell_type": "code",
   "execution_count": 98,
   "metadata": {},
   "outputs": [
    {
     "data": {
      "text/plain": [
       "'/home/Welekie/newworkspace/variantics/Brave'"
      ]
     },
     "execution_count": 98,
     "metadata": {},
     "output_type": "execute_result"
    }
   ],
   "source": [
    " os.getcwd()"
   ]
  },
  {
   "cell_type": "code",
   "execution_count": 129,
   "metadata": {},
   "outputs": [
    {
     "name": "stdout",
     "output_type": "stream",
     "text": [
      "grabix check /home/Welekie/newworkspace/variantics/gvcf/A.vcf\n",
      "\n",
      "b'no\\n'\n",
      "bgzip /home/Welekie/newworkspace/variantics/gvcf/A.vcf\n",
      "\n",
      "grabix check /home/Welekie/newworkspace/variantics/gvcf/D.vcf.gz\n",
      "\n",
      "b'yes\\n'\n"
     ]
    },
    {
     "data": {
      "text/plain": [
       "0"
      ]
     },
     "execution_count": 129,
     "metadata": {},
     "output_type": "execute_result"
    }
   ],
   "source": [
    "import os\n",
    "import subprocess\n",
    "from pysam import VariantFile\n",
    "import pandas\n",
    "import numpy as np\n",
    "import matplotlib.pyplot as plt\n",
    "import json\n",
    "\n",
    "def check_gz():\n",
    "    with open(\"config.json\", 'r') as f:\n",
    "        json_file = json.loads(f.read())\n",
    "        zapusk = open(json_file[\"input_data\"])\n",
    "        A = []\n",
    "        for line in zapusk:\n",
    "            a = 'grabix check ' + line\n",
    "            print(a)\n",
    "            print(subprocess.check_output(a, shell=True))\n",
    "            if subprocess.check_output(a, shell=True) == b'no\\n':\n",
    "                a = 'bgzip ' + line\n",
    "                print(a)\n",
    "    return 0\n",
    "check_gz()"
   ]
  },
  {
   "cell_type": "code",
   "execution_count": 32,
   "metadata": {},
   "outputs": [
    {
     "name": "stdout",
     "output_type": "stream",
     "text": [
      "VP   214\n",
      "VDB   0.0003960739995818585\n",
      "RPB   -0.03299180045723915\n",
      "AF1   1.0\n",
      "AC1   2.0\n",
      "DP4   (0, 1, 128, 81)\n",
      "MQ   10\n",
      "FQ   -282.0\n",
      "PV4   (0.38999998569488525, 1.0, 0.11999999731779099, 0.1599999964237213)\n",
      "AN   54\n",
      "AC   (54,)\n"
     ]
    },
    {
     "ename": "OSError",
     "evalue": "[Errno 22] b'Invalid argument'",
     "output_type": "error",
     "traceback": [
      "\u001b[0;31m---------------------------------------------------------------------------\u001b[0m",
      "\u001b[0;31mOSError\u001b[0m                                   Traceback (most recent call last)",
      "\u001b[0;32m<ipython-input-32-b5ce77140e0f>\u001b[0m in \u001b[0;36m<module>\u001b[0;34m\u001b[0m\n\u001b[1;32m     89\u001b[0m \u001b[0;34m\u001b[0m\u001b[0m\n\u001b[1;32m     90\u001b[0m \u001b[0;34m\u001b[0m\u001b[0m\n\u001b[0;32m---> 91\u001b[0;31m \u001b[0mhist\u001b[0m\u001b[0;34m(\u001b[0m\u001b[0;34m)\u001b[0m\u001b[0;34m\u001b[0m\u001b[0;34m\u001b[0m\u001b[0m\n\u001b[0m",
      "\u001b[0;32m<ipython-input-32-b5ce77140e0f>\u001b[0m in \u001b[0;36mhist\u001b[0;34m()\u001b[0m\n\u001b[1;32m     84\u001b[0m         \u001b[0;32mfor\u001b[0m \u001b[0mi\u001b[0m \u001b[0;32min\u001b[0m \u001b[0mrec\u001b[0m\u001b[0;34m.\u001b[0m\u001b[0minfo\u001b[0m\u001b[0;34m:\u001b[0m\u001b[0;34m\u001b[0m\u001b[0;34m\u001b[0m\u001b[0m\n\u001b[1;32m     85\u001b[0m             \u001b[0mprint\u001b[0m\u001b[0;34m(\u001b[0m\u001b[0mi\u001b[0m\u001b[0;34m,\u001b[0m\u001b[0;34m' '\u001b[0m\u001b[0;34m,\u001b[0m\u001b[0mrec\u001b[0m\u001b[0;34m.\u001b[0m\u001b[0minfo\u001b[0m\u001b[0;34m[\u001b[0m\u001b[0mi\u001b[0m\u001b[0;34m]\u001b[0m\u001b[0;34m)\u001b[0m\u001b[0;34m\u001b[0m\u001b[0;34m\u001b[0m\u001b[0m\n\u001b[0;32m---> 86\u001b[0;31m         \u001b[0moutput_vcf\u001b[0m\u001b[0;34m.\u001b[0m\u001b[0mwrite\u001b[0m\u001b[0;34m(\u001b[0m\u001b[0mrec\u001b[0m\u001b[0;34m)\u001b[0m\u001b[0;34m\u001b[0m\u001b[0;34m\u001b[0m\u001b[0m\n\u001b[0m\u001b[1;32m     87\u001b[0m \u001b[0;34m\u001b[0m\u001b[0m\n\u001b[1;32m     88\u001b[0m     \u001b[0moutput_vcf\u001b[0m\u001b[0;34m.\u001b[0m\u001b[0mclose\u001b[0m\u001b[0;34m(\u001b[0m\u001b[0;34m)\u001b[0m\u001b[0;34m\u001b[0m\u001b[0;34m\u001b[0m\u001b[0m\n",
      "\u001b[0;32mpysam/libcbcf.pyx\u001b[0m in \u001b[0;36mpysam.libcbcf.VariantFile.write\u001b[0;34m()\u001b[0m\n",
      "\u001b[0;32mpysam/libcbcf.pyx\u001b[0m in \u001b[0;36mpysam.libcbcf.VariantFile.write\u001b[0;34m()\u001b[0m\n",
      "\u001b[0;31mOSError\u001b[0m: [Errno 22] b'Invalid argument'"
     ]
    }
   ],
   "source": [
    "from pysam import VariantFile\n",
    "import pandas \n",
    "import numpy as np\n",
    "import matplotlib.pyplot as plt\n",
    "import pysam\n",
    "\n",
    "\n",
    "\n",
    "def hist():\n",
    "\n",
    "    \n",
    "    file = open(\"/home/Welekie/newworkspace/variantics/Brave/A.vcf\")\n",
    "    \n",
    "    f = open(\"header.vcf\",'w')             # костыль, не знаю как по-другому\n",
    "    flag = 0\n",
    "    for i in file:\n",
    "        if i[0] == '#':\n",
    "            if i[2:6] == 'INFO' and flag == 0:\n",
    "                f.write('##INFO=<ID=DP_hist,Description=\"Raw read depth\">')\n",
    "                flag = 1\n",
    "            f.write(i)\n",
    "        else:\n",
    "            pass\n",
    "    file.close()\n",
    "    f.close() \n",
    "    f = VariantFile(\"header.vcf\")\n",
    "    vcf = VariantFile(\"A.vcf\")\n",
    "    csv = pandas.read_csv(\"testik.csv\", sep=',')\n",
    "    \n",
    "    header = pysam.VariantHeader()\n",
    "\n",
    "    for record in f.header.records:\n",
    "        header.add_record(record)\n",
    "\n",
    "    for sample in f.header.samples:\n",
    "        header.add_sample(sample)\n",
    "\n",
    "            \n",
    "    output_vcf = VariantFile('MergeWithHist.vcf', 'w', header = header)\n",
    "           \n",
    "  \n",
    "   \n",
    "    for rec in vcf.fetch():\n",
    "        \n",
    "        DPM = []\n",
    "        ACM = []\n",
    "        ANM = []\n",
    "        REC = rec.samples.keys()\n",
    "\n",
    "        for i in REC:\n",
    "            AC = 0\n",
    "            AN = 0\n",
    "            \n",
    "            if rec.samples[i].get(\"DP\", None) is not None:\n",
    "                DPM.append(rec.samples[i][\"DP\"])\n",
    "            else:\n",
    "                DPM.append(0)\n",
    "            GT = rec.samples[i].get(\"GT\",'./.')\n",
    "\n",
    "            for j in GT:\n",
    "\n",
    "                if j == 1:\n",
    "                    AC += 1\n",
    "                    AN += 1\n",
    "                elif j == 0:\n",
    "                    AN += 1\n",
    "            ACM.append(AC)\n",
    "            ANM.append(AN)\n",
    "        result = pandas.DataFrame({\n",
    "            \"Age\": csv.Age.tolist(),\n",
    "            \"DiseaseId\": csv.DiseaseId.tolist(),\n",
    "            #         \"Relativeness\": csv.Relativeness,\n",
    "            # \"DP\": DPM,\n",
    "            # \"AN\": ANM,\n",
    "            #         \"AC\": ACM\n",
    "        }, index=csv[\"Sample name\"])\n",
    "        result = np.array(result)\n",
    "\n",
    "        bins = np.asarray([4, 4])\n",
    "        try:\n",
    "            A = np.histogramdd(result, bins=bins, weights=DPM)\n",
    "        except:\n",
    "            print(\"Don't find DP in format\",DPM)\n",
    "            A = []\n",
    "\n",
    "        try:\n",
    "            B = np.histogramdd(result, bins=bins, weights=ANM)\n",
    "            C = np.histogramdd(result, bins=bins, weights=ACM)\n",
    "        except:\n",
    "#             print(\"Don't find GT in format \")\n",
    "            B = []\n",
    "            C = []\n",
    "        #rec.info['DP_hist'] = \"123\"\n",
    "        for i in rec.info:\n",
    "            print(i,' ',rec.info[i])\n",
    "        output_vcf.write(rec)\n",
    "        \n",
    "    output_vcf.close()\n",
    "\n",
    "\n",
    "hist()\n"
   ]
  },
  {
   "cell_type": "code",
   "execution_count": 4,
   "metadata": {},
   "outputs": [
    {
     "data": {
      "text/plain": [
       "'0.15.3'"
      ]
     },
     "execution_count": 4,
     "metadata": {},
     "output_type": "execute_result"
    }
   ],
   "source": [
    "pysam.__version__"
   ]
  },
  {
   "cell_type": "code",
   "execution_count": 3,
   "metadata": {},
   "outputs": [
    {
     "ename": "OSError",
     "evalue": "[Errno 22] b'Invalid argument'",
     "output_type": "error",
     "traceback": [
      "\u001b[0;31m---------------------------------------------------------------------------\u001b[0m",
      "\u001b[0;31mOSError\u001b[0m                                   Traceback (most recent call last)",
      "\u001b[0;32m<ipython-input-3-8acdd679b95c>\u001b[0m in \u001b[0;36m<module>\u001b[0;34m\u001b[0m\n\u001b[1;32m     12\u001b[0m \u001b[0;32mfor\u001b[0m \u001b[0mrec\u001b[0m \u001b[0;32min\u001b[0m \u001b[0mf\u001b[0m\u001b[0;34m.\u001b[0m\u001b[0mfetch\u001b[0m\u001b[0;34m(\u001b[0m\u001b[0;34m)\u001b[0m\u001b[0;34m:\u001b[0m\u001b[0;34m\u001b[0m\u001b[0;34m\u001b[0m\u001b[0m\n\u001b[1;32m     13\u001b[0m     \u001b[0;31m#rec.translate(header)\u001b[0m\u001b[0;34m\u001b[0m\u001b[0;34m\u001b[0m\u001b[0;34m\u001b[0m\u001b[0m\n\u001b[0;32m---> 14\u001b[0;31m     \u001b[0moutput_vcf\u001b[0m\u001b[0;34m.\u001b[0m\u001b[0mwrite\u001b[0m\u001b[0;34m(\u001b[0m\u001b[0mrec\u001b[0m\u001b[0;34m)\u001b[0m\u001b[0;34m\u001b[0m\u001b[0;34m\u001b[0m\u001b[0m\n\u001b[0m\u001b[1;32m     15\u001b[0m \u001b[0;34m\u001b[0m\u001b[0m\n\u001b[1;32m     16\u001b[0m \u001b[0moutput_vcf\u001b[0m\u001b[0;34m.\u001b[0m\u001b[0mclose\u001b[0m\u001b[0;34m(\u001b[0m\u001b[0;34m)\u001b[0m\u001b[0;34m\u001b[0m\u001b[0;34m\u001b[0m\u001b[0m\n",
      "\u001b[0;32mpysam/libcbcf.pyx\u001b[0m in \u001b[0;36mpysam.libcbcf.VariantFile.write\u001b[0;34m()\u001b[0m\n",
      "\u001b[0;32mpysam/libcbcf.pyx\u001b[0m in \u001b[0;36mpysam.libcbcf.VariantFile.write\u001b[0;34m()\u001b[0m\n",
      "\u001b[0;31mOSError\u001b[0m: [Errno 22] b'Invalid argument'"
     ]
    }
   ],
   "source": [
    "f = VariantFile(\"A.vcf\")\n",
    "\n",
    "header = pysam.VariantHeader()\n",
    "\n",
    "for record in f.header.records:\n",
    "    header.add_record(record)\n",
    "\n",
    "for sample in f.header.samples:\n",
    "    header.add_sample(sample)\n",
    "\n",
    "output_vcf = VariantFile('MergeWithHist.vcf', 'w', header = header)\n",
    "for rec in f.fetch():\n",
    "    #rec.translate(header)\n",
    "    output_vcf.write(rec)\n",
    "\n",
    "output_vcf.close()\n",
    "f.close()"
   ]
  },
  {
   "cell_type": "code",
   "execution_count": 45,
   "metadata": {},
   "outputs": [
    {
     "name": "stdout",
     "output_type": "stream",
     "text": [
      "['__bool__', '__class__', '__contains__', '__delattr__', '__dir__', '__doc__', '__eq__', '__format__', '__ge__', '__getattribute__', '__getitem__', '__gt__', '__hash__', '__init__', '__init_subclass__', '__iter__', '__le__', '__len__', '__lt__', '__ne__', '__new__', '__reduce__', '__reduce_ex__', '__repr__', '__setattr__', '__setstate__', '__sizeof__', '__str__', '__subclasshook__', 'attrs', 'get', 'header', 'items', 'iteritems', 'iterkeys', 'itervalues', 'key', 'keys', 'pop', 'remove', 'type', 'update', 'value', 'values']\n"
     ]
    }
   ],
   "source": [
    "header = pysam.VariantHeader()\n",
    "\n",
    "for record in vcf.header.records:\n",
    "    print(dir(record))\n",
    "    break"
   ]
  }
 ],
 "metadata": {
  "kernelspec": {
   "display_name": "Python 3",
   "language": "python",
   "name": "python3"
  },
  "language_info": {
   "codemirror_mode": {
    "name": "ipython",
    "version": 3
   },
   "file_extension": ".py",
   "mimetype": "text/x-python",
   "name": "python",
   "nbconvert_exporter": "python",
   "pygments_lexer": "ipython3",
   "version": "3.7.3"
  }
 },
 "nbformat": 4,
 "nbformat_minor": 2
}
